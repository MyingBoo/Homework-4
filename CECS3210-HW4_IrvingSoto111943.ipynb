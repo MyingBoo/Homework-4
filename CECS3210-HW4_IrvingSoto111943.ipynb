{
 "cells": [
  {
   "cell_type": "markdown",
   "metadata": {},
   "source": [
    "# CECS 3210 - Week 4 Assignment\n",
    "\n",
    "## This week coding exercises will cover topics discussed in Chapter 4.\n",
    "\n",
    "### Due date: Day, 14 of September at 11:59 P.M.\n",
    "### All solutions are reviewed, create unique solutions and discussions.\n",
    "#### Remember  to submit your solutions on time. \n",
    "\n",
    "<br>\n",
    "Name: Irving Soto\n",
    "<br>\n",
    "Email: soto_111943@students.pupr.edu\n",
    "<br>\n",
    "Student number: 111943"
   ]
  },
  {
   "cell_type": "code",
   "execution_count": null,
   "metadata": {},
   "outputs": [],
   "source": [
    "# Required import for some problems. Run this cell and proceed.\n",
    "from graphics import *"
   ]
  },
  {
   "cell_type": "markdown",
   "metadata": {},
   "source": [
    "Documentation of graphics: https://mcsp.wartburg.edu/zelle/python/graphics/graphics.pdf <br>\n",
    "Graphics library file: https://mcsp.wartburg.edu/zelle/python/graphics.py\n",
    "\n",
    "**Note**: When running graphical code, your window may be hidden under your other windows."
   ]
  },
  {
   "cell_type": "markdown",
   "metadata": {},
   "source": [
    "## Discussion exercises  ( I )"
   ]
  },
  {
   "cell_type": "markdown",
   "metadata": {},
   "source": [
    "1. Pick an example of an interesting real-world object and describe it as a\n",
    "programming object by listing its data (attributes, what it \"knows\") and\n",
    "its methods (behaviors, what it can \"do\").<br><br>\n",
    "Ex:<br>\n",
    "```python\n",
    "# Real-world object: Phone\n",
    "owner = 'Samuel Matos'\n",
    "name = 'OnePlus 6'\n",
    "operating_system = 'Android'\n",
    "year = 2018\n",
    "brand = 'OnePlus'\n",
    "model = 6\n",
    "cost = 101.49\n",
    "buttons = ('Power', 'Volume +', 'Volume -')\n",
    "features = ['Front facing camera', 'Speakers', 'Fingerprint sensor']\n",
    "```\n",
    "```python\n",
    "def take_photo():\n",
    "    pass\n",
    "def volume_up():\n",
    "    pass\n",
    "def call():\n",
    "    pass\n",
    "```"
   ]
  },
  {
   "cell_type": "code",
   "execution_count": null,
   "metadata": {
    "scrolled": true
   },
   "outputs": [],
   "source": [
    "# Real-world object: Playstation 5\n",
    "\n",
    "def main():\n",
    "    owner = 'Irving Soto'\n",
    "    name = 'Playstation 5'\n",
    "    operating_system = 'PS5 OS'\n",
    "    year = 2020\n",
    "    brand = 'Sony'\n",
    "    model = 'CFI-1016A 01Y 220-240V'\n",
    "    cost = 399.99\n",
    "    Inputs = ['Power', 'Triangle', 'Square', 'X', 'O', 'HOME', 'Screenshot', 'R1', 'L1', 'R2', 'L2', 'Left stick', 'Right stick', 'Touch pad']\n",
    "    features = ['Wireless contoller', 'Speakers', 'Usb type-c port', 'Auxilary port']\n",
    "def play_games():\n",
    "    pass\n",
    "def internet():\n",
    "    pass\n",
    "\n",
    "if __name__ == '__main__':\n",
    "    main()\n"
   ]
  },
  {
   "cell_type": "markdown",
   "metadata": {},
   "source": [
    "2. **Describe in your own words** the object produced by each of the following\n",
    "operations from the graphics module. Be as precise as you can. Be sure to\n",
    "mention such things as the size, position, and appearance of the various\n",
    "objects. You may include a sketch if that helps. (External file like a PDF) (Once finished, press shift + enter on each description cell) (If you need to edit that cell, double click on it)"
   ]
  },
  {
   "cell_type": "markdown",
   "metadata": {},
   "source": [
    "A: \n",
    "```python\n",
    "Point(130,130)\n",
    "```"
   ]
  },
  {
   "cell_type": "markdown",
   "metadata": {},
   "source": [
    "*Description:* Produce un punto negro pixeleado en la coordenada (130, 130)"
   ]
  },
  {
   "cell_type": "markdown",
   "metadata": {},
   "source": [
    "B: \n",
    "```python\n",
    "c = Circle(Point(30, 40), 25)\n",
    "c.setFill(\"blue\")\n",
    "c.setOutline(\"red\")\n",
    "```"
   ]
  },
  {
   "cell_type": "markdown",
   "metadata": {},
   "source": [
    "*Description:* Produce un circulo centrado en (30, 40) con un radio de 25, el circulo es azul con linea de afuera rojo"
   ]
  },
  {
   "cell_type": "markdown",
   "metadata": {},
   "source": [
    "C: \n",
    "```python\n",
    "r = Rectangle(Point(20 , 20), Point(40 , 40)) \n",
    "r.setFill(color_rgb(0 , 255 , 150)) \n",
    "r.setWidth(3)\n",
    "```"
   ]
  },
  {
   "cell_type": "markdown",
   "metadata": {},
   "source": [
    "*Description:* Un cuadrado que empieza en el punto (20, 20) y termina en el punto (40, 40). El ancho de las lineas de afuera es de 3 pixels y el color por dentro del cuadrado es menta. "
   ]
  },
  {
   "cell_type": "markdown",
   "metadata": {},
   "source": [
    "D: \n",
    "```python\n",
    "l = Line(Point(100 , 100), Point (100 , 200))\n",
    "l.set0utline(\"red4\")\n",
    "l.setArrow(\"first\")\n",
    "```"
   ]
  },
  {
   "cell_type": "markdown",
   "metadata": {},
   "source": [
    "*Description:* El objeto es una linea que va de4l punto (100, 100) al punto (100, 200). Es una linea recta que va del norte al sur, el color de la linea es un rojo oscuro y tiene una flecha en la punta."
   ]
  },
  {
   "cell_type": "markdown",
   "metadata": {},
   "source": [
    "E: \n",
    "```python\n",
    "Oval(Point(50 , 50), Point(60 , 100))\n",
    "```"
   ]
  },
  {
   "cell_type": "markdown",
   "metadata": {},
   "source": [
    "*Description:* Un ovalo dibujado dentro de un rectangulo invisible que empieza en el punto (50, 50) y termina en el punto (60, 100)."
   ]
  },
  {
   "cell_type": "markdown",
   "metadata": {},
   "source": [
    "F: \n",
    "```python\n",
    "shape = Polygon(Point(5, 5), Point (10, 10), Point(5, 10), Point(10, 5))\n",
    "shape.setFill(\"orange\")\n",
    "```"
   ]
  },
  {
   "cell_type": "markdown",
   "metadata": {},
   "source": [
    "*Description:* 2 triangulos chiquitos mirandose en la parte de arriba de la ventanilla a la derecha, estan rellenos del color chinita. "
   ]
  },
  {
   "cell_type": "markdown",
   "metadata": {},
   "source": [
    "G: \n",
    "```python\n",
    "t = Text(Point(100, 100), \"Hello World!\")\n",
    "t.setFace(\"courier\")\n",
    "t.setSize(16)\n",
    "t.setStyle(\"italic\")\n",
    "```"
   ]
  },
  {
   "cell_type": "markdown",
   "metadata": {},
   "source": [
    "*Description:* Printea 'Hello World!' centrado en (100, 100), la letra es courier e italico, el size de la letra es 16."
   ]
  },
  {
   "cell_type": "markdown",
   "metadata": {},
   "source": [
    "3. Describe what happens when the following interactive graphics program runs:\n",
    "```python\n",
    "#Source code. Copy and run on the cell bellow.\n",
    "def main():\n",
    "\twin = GraphWin()\n",
    "\tshape = Circle(Point(50, 50), 20)\n",
    "\tshape.setOutline(\"red\")\n",
    "\tshape.setFill(\"red\")\n",
    "\tshape.draw(win)\n",
    "\tfor i in range(10) :\n",
    "\t\tp = win.getMouse()\n",
    "\t\tc = shape.getCenter()\n",
    "\t\tdx = p.getX()- c.getX()\n",
    "\t\tdy = p.getY()- c.getY()\n",
    "\t\tshape.move(dx, dy)\n",
    "\twin.close()\n",
    "main()\n",
    "```"
   ]
  },
  {
   "cell_type": "code",
   "execution_count": null,
   "metadata": {},
   "outputs": [],
   "source": [
    "#Replace with previous code\n",
    "#Source code. Copy and run on the cell bellow.\n",
    "from graphics import GraphWin, Point, Circle\n",
    "def main():\n",
    "\twin = GraphWin()\n",
    "\tshape = Circle(Point(50, 50), 20)\n",
    "\tshape.setOutline(\"red\")\n",
    "\tshape.setFill(\"red\")\n",
    "\tshape.draw(win)\n",
    "\tfor i in range(10) :\n",
    "\t\tp = win.getMouse()\n",
    "\t\tc = shape.getCenter()\n",
    "\t\tdx = p.getX()- c.getX()\n",
    "\t\tdy = p.getY()- c.getY()\n",
    "\t\tshape.move(dx, dy)\n",
    "\twin.close()\n",
    "main()"
   ]
  },
  {
   "cell_type": "markdown",
   "metadata": {},
   "source": [
    "*FINDINGS:* Empieza dibujando un circulo relleno de rojo, centrado en el punto (50, 50), con un radio de 20. El programa permite al usuario clickear en la ventanilla, al clickear, mueve el circulo al punto donde el usuario clickeo, todo se queda igual, solo cambia el centro a donde el usuario clickeo. El ciclo es repetido 10 veces. "
   ]
  },
  {
   "cell_type": "markdown",
   "metadata": {},
   "source": [
    "***\n",
    "## Coding exercises  ( II )"
   ]
  },
  {
   "cell_type": "markdown",
   "metadata": {},
   "source": [
    "### Coding exercise \\#C1\n",
    "\n",
    "Alter the program from the last discussion question in the following ways:\n",
    "<br>\n",
    "1. Make it draw squares instead of circles. \n",
    "2. Have each successive click draw an additional square on the screen\n",
    "(rather than moving the existing one).\n",
    "3. Print a message on the window \"Click again to quit\" after the loop,\n",
    "and wait for a final click before closing the window.\n",
    "<br>\n",
    "Ex:<br>\n",
    "**Image example: 9 squares placed**\n",
    "<br>\n",
    "<img src='./images_reference/placed_9_squares.jpg' alt='Placed 9 squares'>\n",
    "**Image example: 10 squares placed**\n",
    "<br>\n",
    "<img src='./images_reference/placed_10.jpg' alt='Placed 9 squares'>\n",
    "**Image example: 10 squares placed (Explore and have fun)**\n",
    "<br>\n",
    "<img src='./images_reference/placed_10_v2.jpg' alt='Placed 9 squares'>"
   ]
  },
  {
   "cell_type": "code",
   "execution_count": null,
   "metadata": {},
   "outputs": [],
   "source": [
    "import graphics\n",
    "def main():\n",
    "\twin = graphics.GraphWin()\n",
    "\twin.setBackground('grey')\n",
    "\n",
    "\tshape = graphics.Rectangle(graphics.Point(50, 50), graphics.Point(80,80))\n",
    "\tshape.setOutline(\"red\")\n",
    "\tshape.setFill(\"red\")\n",
    "\tshape.draw(win)\n",
    "\n",
    "\tfor i in range(10):\n",
    "\t\tobject_copy = shape.clone()\n",
    "\t\tobject_copy.draw(win)\n",
    "\n",
    "\t\tp = win.getMouse()\n",
    "\t\tc = shape.getCenter()\n",
    "\n",
    "\t\tdx = p.getX() - c.getX()\n",
    "\t\tdy = p.getY() - c.getY()\n",
    "\n",
    "\t\tobject_copy.move(dx, dy)\n",
    "\n",
    "\tend_text = graphics.Text(graphics.Point(100,20), \"Click again to quit...\")\n",
    "\tend_text.draw(win)\n",
    "\twin.getMouse()\n",
    "\n",
    "\twin.close()\n",
    "\n",
    "if __name__ == '__main__':\n",
    "    main()"
   ]
  },
  {
   "cell_type": "markdown",
   "metadata": {},
   "source": [
    "***\n",
    "### Coding exercise \\#C2\n",
    "\n",
    "An archery target consists of a central circle of yellow surrounded by concentric\n",
    "rings of red, blue, black and white. Each ring has the same width,\n",
    "which is the same as the radius of the yellow circle. Write a program\n",
    "that draws such a target. Hint : Objects drawn later will appear on top of\n",
    "objects drawn earlier. Play around with the white circle size, then go lowering the radius of the circle for the rest.<br>\n",
    "Ex:<br>\n",
    "**Image example: Archery**\n",
    "<br>\n",
    "<img src='./images_reference/archery_example.jpg' alt='Archery'>"
   ]
  },
  {
   "cell_type": "code",
   "execution_count": null,
   "metadata": {},
   "outputs": [],
   "source": [
    "import graphics\n",
    "\n",
    "def main():\n",
    "    window = graphics.GraphWin(\"Target\", 300, 300)\n",
    "    target(window)\n",
    "    window.getMouse()\n",
    "    window.close()\n",
    "\n",
    "def target(window):\n",
    "    radius = 100\n",
    "    colors = [\n",
    "        'white',\n",
    "        'black',\n",
    "        'blue',\n",
    "        'red',\n",
    "        'yellow'\n",
    "    ]\n",
    "\n",
    "    for x in range(5):\n",
    "        circle = graphics.Circle(graphics.Point(150, 150), radius)\n",
    "        circle.draw(window)\n",
    "        radius -= 20\n",
    "        \n",
    "        circle.setFill(colors[x])\n",
    "\n",
    "if __name__ == '__main__':\n",
    "    main()\n"
   ]
  },
  {
   "cell_type": "markdown",
   "metadata": {},
   "source": [
    "***\n",
    "### Coding exercise \\#C3\n",
    "\n",
    "Write a program that draws 5 dice on the screen depicting a straight (1, 2, 3, 4, 5 or 2, 3, 4, 5, 6).\n",
    "<br>Ex:<br>\n",
    "**Image example: Dices (1, 2, 3, 4, 5)**\n",
    "<br>\n",
    "<img src='./images_reference/dice_example.jpg' alt='dices'>"
   ]
  },
  {
   "cell_type": "code",
   "execution_count": null,
   "metadata": {},
   "outputs": [],
   "source": [
    "import graphics\n",
    "\n",
    "def main():\n",
    "    window = graphics.GraphWin('dice', 800, 160)\n",
    "    dice(window)\n",
    "\n",
    "    window.getMouse()\n",
    "    window.close()\n",
    "\n",
    "\n",
    "def dice(window, dice_num = 5):\n",
    "    color = [\n",
    "        'black',\n",
    "        'blue',\n",
    "        'green',\n",
    "        'yellow',\n",
    "        'white'\n",
    "    ]\n",
    "\n",
    "    dice_top_x = 20\n",
    "    dice_bottom_x = 140\n",
    "\n",
    "    #Draw squares\n",
    "    for i in range(dice_num):\n",
    "        square = graphics.Rectangle(graphics.Point(dice_top_x + (160 * i), 20), graphics.Point(dice_bottom_x + (160 * i), 140))\n",
    "        square.setFill(color[i])\n",
    "        square.draw(window)\n",
    "    \n",
    "    #Center circle for square 1 and 5\n",
    "    for i in range(2):\n",
    "        circle = graphics.Circle(graphics.Point(80 + (640 * i), 80), 10)\n",
    "        circle.setFill(\"red\")\n",
    "        circle.draw(window)\n",
    "\n",
    "    #Circles for square 2\n",
    "    for i in range(2):\n",
    "        circle = graphics.Circle(graphics.Point(200 + (80 * i), 40 + (80 * i)), 10)\n",
    "        circle.setFill(\"red\")\n",
    "        circle.draw(window)\n",
    "    \n",
    "    #Circles for square 3\n",
    "    for i in range(3):\n",
    "        circle = graphics.Circle(graphics.Point(360 + (40 * i), 40 + (40 * i)), 10)\n",
    "        circle.setFill(\"red\")\n",
    "        circle.draw(window)\n",
    "    \n",
    "    #Circles for square 4\n",
    "    for i in range(2):\n",
    "        circle = graphics.Circle(graphics.Point(530, 50 + (60 * i)), 10)\n",
    "        circle.setFill(\"red\")\n",
    "        circle.draw(window)\n",
    "\n",
    "        circle = graphics.Circle(graphics.Point(590, 50 + (60 * i)), 10)\n",
    "        circle.setFill(\"red\")\n",
    "        circle.draw(window)\n",
    "    \n",
    "    #Circles for square 5\n",
    "    for i in range(2):\n",
    "        circle = graphics.Circle(graphics.Point(690, 50 + (60 * i)), 10)\n",
    "        circle.setFill(\"red\")\n",
    "        circle.draw(window)\n",
    "\n",
    "        circle = graphics.Circle(graphics.Point(750, 50 + (60 * i)), 10)\n",
    "        circle.setFill(\"red\")\n",
    "        circle.draw(window)\n",
    "\n",
    "if __name__ == '__main__':\n",
    "    main()\n"
   ]
  },
  {
   "cell_type": "markdown",
   "metadata": {},
   "source": [
    "***\n",
    "### Coding exercise \\#C4\n",
    "\n",
    "    Line Segment Information\n",
    "This program allows the user to draw a line segment and then displays\n",
    "some graphical and textual information about the line segment.<br><br>\n",
    "**Input:** Two mouse clicks for the end points of the line segment.<br><br>\n",
    "**Output:** Draw the midpoint of the segment in green.<br><br>\n",
    "Draw the line.<br>\n",
    "Print the length and the slope of the line.<br><br>\n",
    "**Formulas:**<br>\n",
    "\\begin{align*}\n",
    " dx &= x_{2} - x_{1} \\\\\n",
    " dy &= y_{2} - y_{1} \\\\\n",
    " \\text{slope} &= \\frac{\\Delta y}{\\Delta x} \\\\\n",
    " \\text{length} &= \\sqrt{dx^2 + dy^2} \n",
    "\\end{align*}"
   ]
  },
  {
   "cell_type": "code",
   "execution_count": null,
   "metadata": {},
   "outputs": [],
   "source": [
    "import graphics\n",
    "\n",
    "def main():\n",
    "    window = graphics.GraphWin('dice', 800, 160)\n",
    "    dice(window)\n",
    "\n",
    "    window.getMouse()\n",
    "    window.close()\n",
    "\n",
    "\n",
    "def dice(window, dice_num = 5):\n",
    "    color = [\n",
    "        'black',\n",
    "        'blue',\n",
    "        'green',\n",
    "        'yellow',\n",
    "        'white'\n",
    "    ]\n",
    "\n",
    "    dice_top_x = 20\n",
    "    dice_bottom_x = 140\n",
    "\n",
    "    #Draw squares\n",
    "    for i in range(dice_num):\n",
    "        square = graphics.Rectangle(graphics.Point(dice_top_x + (160 * i), 20), graphics.Point(dice_bottom_x + (160 * i), 140))\n",
    "        square.setFill(color[i])\n",
    "        square.draw(window)\n",
    "    \n",
    "    #Center circle for square 1 and 5\n",
    "    for i in range(2):\n",
    "        circle = graphics.Circle(graphics.Point(80 + (640 * i), 80), 10)\n",
    "        circle.setFill(\"red\")\n",
    "        circle.draw(window)\n",
    "\n",
    "    #Circles for square 2\n",
    "    for i in range(2):\n",
    "        circle = graphics.Circle(graphics.Point(200 + (80 * i), 40 + (80 * i)), 10)\n",
    "        circle.setFill(\"red\")\n",
    "        circle.draw(window)\n",
    "    \n",
    "    #Circles for square 3\n",
    "    for i in range(3):\n",
    "        circle = graphics.Circle(graphics.Point(360 + (40 * i), 40 + (40 * i)), 10)\n",
    "        circle.setFill(\"red\")\n",
    "        circle.draw(window)\n",
    "    \n",
    "    #Circles for square 4\n",
    "    for i in range(2):\n",
    "        circle = graphics.Circle(graphics.Point(530, 50 + (60 * i)), 10)\n",
    "        circle.setFill(\"red\")\n",
    "        circle.draw(window)\n",
    "\n",
    "        circle = graphics.Circle(graphics.Point(590, 50 + (60 * i)), 10)\n",
    "        circle.setFill(\"red\")\n",
    "        circle.draw(window)\n",
    "    \n",
    "    #Circles for square 5\n",
    "    for i in range(2):\n",
    "        circle = graphics.Circle(graphics.Point(690, 50 + (60 * i)), 10)\n",
    "        circle.setFill(\"red\")\n",
    "        circle.draw(window)\n",
    "\n",
    "        circle = graphics.Circle(graphics.Point(750, 50 + (60 * i)), 10)\n",
    "        circle.setFill(\"red\")\n",
    "        circle.draw(window)\n",
    "\n",
    "if __name__ == '__main__':\n",
    "    main()\n"
   ]
  },
  {
   "cell_type": "markdown",
   "metadata": {},
   "source": [
    "***\n",
    "### Coding exercise \\#C5\n",
    "    Five-click House\n",
    "You are to write a program that allows the user to draw a simple house\n",
    "using five mouse clicks. The first two clicks will be the opposite corners of\n",
    "the rectangular frame of the house. The third click will indicate the center\n",
    "of the top edge of a rectangular door. The door should have a total width\n",
    "that is 1/5 of the width of the house frame. The sides of the door should\n",
    "extend from the corners of the top down to the bottom of the frame. The\n",
    "fourth click will indicate the center of a square window. The window is\n",
    "half as wide as the door. The last click will indicate the peak of the roof.\n",
    "The edges of the roof will extend from the point at the peak to the corners\n",
    "of the top edge of the house frame.\n",
    "<br>\n",
    "Ex:<br>\n",
    "**Image example: House**\n",
    "<br>\n",
    "<img src='./images_reference/house_example.jpg' alt='house'>"
   ]
  },
  {
   "cell_type": "code",
   "execution_count": null,
   "metadata": {},
   "outputs": [],
   "source": [
    "import graphics\n",
    "\n",
    "def main():\n",
    "    window = graphics.GraphWin('dice', 800, 160)\n",
    "    dice(window)\n",
    "\n",
    "    window.getMouse()\n",
    "    window.close()\n",
    "\n",
    "\n",
    "def dice(window, dice_num = 5):\n",
    "    color = [\n",
    "        'black',\n",
    "        'blue',\n",
    "        'green',\n",
    "        'yellow',\n",
    "        'white'\n",
    "    ]\n",
    "\n",
    "    dice_top_x = 20\n",
    "    dice_bottom_x = 140\n",
    "\n",
    "    #Draw squares\n",
    "    for i in range(dice_num):\n",
    "        square = graphics.Rectangle(graphics.Point(dice_top_x + (160 * i), 20), graphics.Point(dice_bottom_x + (160 * i), 140))\n",
    "        square.setFill(color[i])\n",
    "        square.draw(window)\n",
    "    \n",
    "    #Center circle for square 1 and 5\n",
    "    for i in range(2):\n",
    "        circle = graphics.Circle(graphics.Point(80 + (640 * i), 80), 10)\n",
    "        circle.setFill(\"red\")\n",
    "        circle.draw(window)\n",
    "\n",
    "    #Circles for square 2\n",
    "    for i in range(2):\n",
    "        circle = graphics.Circle(graphics.Point(200 + (80 * i), 40 + (80 * i)), 10)\n",
    "        circle.setFill(\"red\")\n",
    "        circle.draw(window)\n",
    "    \n",
    "    #Circles for square 3\n",
    "    for i in range(3):\n",
    "        circle = graphics.Circle(graphics.Point(360 + (40 * i), 40 + (40 * i)), 10)\n",
    "        circle.setFill(\"red\")\n",
    "        circle.draw(window)\n",
    "    \n",
    "    #Circles for square 4\n",
    "    for i in range(2):\n",
    "        circle = graphics.Circle(graphics.Point(530, 50 + (60 * i)), 10)\n",
    "        circle.setFill(\"red\")\n",
    "        circle.draw(window)\n",
    "\n",
    "        circle = graphics.Circle(graphics.Point(590, 50 + (60 * i)), 10)\n",
    "        circle.setFill(\"red\")\n",
    "        circle.draw(window)\n",
    "    \n",
    "    #Circles for square 5\n",
    "    for i in range(2):\n",
    "        circle = graphics.Circle(graphics.Point(690, 50 + (60 * i)), 10)\n",
    "        circle.setFill(\"red\")\n",
    "        circle.draw(window)\n",
    "\n",
    "        circle = graphics.Circle(graphics.Point(750, 50 + (60 * i)), 10)\n",
    "        circle.setFill(\"red\")\n",
    "        circle.draw(window)\n",
    "\n",
    "if __name__ == '__main__':\n",
    "    main()\n"
   ]
  },
  {
   "cell_type": "markdown",
   "metadata": {},
   "source": [
    "***\n",
    "### Coding exercise \\#C6\n",
    "    Cuadricula\n",
    "You should write a program that asks the user for the size of the grid sheet (cuadricula) and the size of the squares inside the grid sheet. Next, you should generate a window with the grid with the specified size by the user. \n",
    "<br>\n",
    "Note: Both sizes should be only integers values (int).\n",
    "<br><br>\n",
    "Ex1:<br><code>What should be the size of the window in pixels? 500\n",
    "Enter the size of the squares in the sheet: 10\n",
    "</code>\n",
    "**Image example: Cuadricula (500 sheet size, 10 pixels squares)**\n",
    "<br>\n",
    "<img src='./images_reference/cuadricula_500_10.jpg' alt='dices'>\n",
    "<br>\n",
    "Ex2:<br><code>What should be the size of the window in pixels? 600\n",
    "Enter the size of the squares in the sheet: 50\n",
    "</code>\n",
    "**Image example: Cuadricula (600 sheet size, 50 pixels squares)**\n",
    "<br>\n",
    "<img src='./images_reference/cuadricula_600_50.jpg' alt='dices'>\n",
    "<br>"
   ]
  },
  {
   "cell_type": "code",
   "execution_count": null,
   "metadata": {},
   "outputs": [],
   "source": [
    "import graphics\n",
    "import math\n",
    "\n",
    "def main():\n",
    "    max_size = False\n",
    "    i = 0\n",
    "\n",
    "    window_size = int(input('What should be the size of the window in pixels?'))\n",
    "    square_size = int(input('Enter the size of the squares in the sheet:'))\n",
    "\n",
    "    window = graphics.GraphWin('Cuadricula', window_size, window_size)\n",
    "\n",
    "    while not(max_size):\n",
    "        \n",
    "        square_factor = square_size + (square_size * i)\n",
    "\n",
    "        p1 = graphics.Point(square_factor, 0)\n",
    "        p2 = graphics.Point(square_factor, window_size)\n",
    "\n",
    "        p3 = graphics.Point(0, square_factor)\n",
    "        p4 = graphics.Point(window_size, square_factor)\n",
    "\n",
    "        vert_lines = graphics.Line(p1, p2)\n",
    "        vert_lines.draw(window)\n",
    "\n",
    "        hor_lines = graphics.Line(p3, p4)\n",
    "        hor_lines.draw(window)\n",
    "\n",
    "        i = i + 1\n",
    "\n",
    "        if square_factor >= window_size:\n",
    "            max_size = True\n",
    "        \n",
    "    window.getMouse()\n",
    "    window.close()\n",
    "\n",
    "if __name__ == '__main__':\n",
    "    main()"
   ]
  },
  {
   "cell_type": "markdown",
   "metadata": {},
   "source": [
    "***\n",
    "### Coding exercise \\#C7\n",
    "\n",
    "Write a program recreates a chosen satellite image from Google Maps. Have fun, play around with the graphics library. Your satellite image must have various objects, it cannot be just a park with a fountain in the middle. (Thus, your drawing would be just a circle in the middle.) Be creative, enjoy this exercise. **You must submit the image selected from Google Maps.**\n",
    "<br>Windows: You can use Snipping Tool to take the image or use the shortcut: (windows key + shift + s)\n",
    "<br>MacOS: You can use the shortcut: (shift + command + 4)\n",
    "\n",
    "Ex:<br>\n",
    "**Satalite image example:**\n",
    "<br>\n",
    "<img src='./images_reference/satellite.jpg' alt='satellite'>"
   ]
  },
  {
   "source": [],
   "cell_type": "markdown",
   "metadata": {}
  },
  {
   "source": [
    "<img arc='Screenshot 2020-12-13 201939.png'\n"
   ],
   "cell_type": "markdown",
   "metadata": {}
  },
  {
   "cell_type": "code",
   "execution_count": null,
   "metadata": {},
   "outputs": [],
   "source": [
    "import graphics\n",
    "\n",
    "def main():\n",
    "    window = graphics.GraphWin('GMImage', 400, 400)\n",
    "    window.setBackground('light grey')\n",
    "    lines = [\n",
    "       \n",
    "        graphics.Line(graphics.Point(360, 40),graphics.Point(360, 320)),\n",
    "        graphics.Line(graphics.Point(107, 40),graphics.Point(107, 400)),\n",
    "        graphics.Line(graphics.Point(230, 40),graphics.Point(230, 350)),\n",
    "        graphics.Line(graphics.Point(100, 40),graphics.Point(390, 40)),\n",
    "        graphics.Line(graphics.Point(105, 380),graphics.Point(366, 315)),\n",
    "        graphics.Line(graphics.Point(0, 200),graphics.Point(107, 200)),\n",
    "    ]\n",
    "     \n",
    "    for x in range(len(lines)):\n",
    "        lines[x].setWidth(15)\n",
    "        lines[x].setOutline('grey')\n",
    "        lines[x].draw(window)\n",
    "\n",
    "    window.getKey()\n",
    "    window.close()\n",
    "\n",
    "if __name__ == '__main__':\n",
    "    main()"
   ]
  },
  {
   "cell_type": "markdown",
   "metadata": {},
   "source": [
    "***\n",
    "### Coding CHALLENGE \\#C8 (This is a bonus exercise)\n",
    "\n",
    "**Golden spiral approximation**\n",
    "\n",
    "You are to write a program that asks the user for the width $w$ of the window to generate an aproximation of the [Golden Spiral](https://en.wikipedia.org/wiki/Golden_spiral) inside. You can start by calculating the center and radius of the first 4 circles as shown in the following image: \n",
    "<br>\n",
    "<img src='./images_reference/golden_spiral_start.png' alt='spiral'>\n",
    "<br>\n",
    "\n",
    "The ratio between its length and width is the [Golden ratio](https://en.wikipedia.org/wiki/Golden_ratio), i.e, \n",
    "$$\\frac wh = \\frac{1 + \\sqrt{5}}2 = \\varphi$$\n",
    "\n",
    "If you wish to generate more cycles of the spiral, you are welcome to do so. You may want to use various colors to visualize  the spiral.<br>"
   ]
  },
  {
   "cell_type": "code",
   "execution_count": null,
   "metadata": {},
   "outputs": [],
   "source": [
    "def main():\n",
    "    ### Replace with your own code here\n",
    "    pass\n",
    "    \n",
    "main()"
   ]
  }
 ],
 "metadata": {
  "hide_input": false,
  "kernelspec": {
   "display_name": "Python 3",
   "language": "python",
   "name": "python3"
  },
  "language_info": {
   "codemirror_mode": {
    "name": "ipython",
    "version": 3
   },
   "file_extension": ".py",
   "mimetype": "text/x-python",
   "name": "python",
   "nbconvert_exporter": "python",
   "pygments_lexer": "ipython3",
   "version": "3.7.1"
  }
 },
 "nbformat": 4,
 "nbformat_minor": 4
}